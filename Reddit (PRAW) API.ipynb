{
 "cells": [
  {
   "cell_type": "markdown",
   "metadata": {},
   "source": [
    "# Reddit (PRAW) API"
   ]
  },
  {
   "cell_type": "markdown",
   "metadata": {},
   "source": [
    "The dataset used in my project was downloaded from [Kaggle](https://www.kaggle.com/kaggle/random-acts-of-pizza). The post submissions in that dataset ranged from December 8, 2010 through September 29, 2013. \n",
    "\n",
    "In conjunction with PushShiftData API, I was able to grab the submission IDs from January 1, 2014 through August 13, 2020 and then pull the most updated link flair text using PRAW API. "
   ]
  },
  {
   "cell_type": "code",
   "execution_count": 57,
   "metadata": {},
   "outputs": [],
   "source": [
    "import praw \n",
    "import json\n",
    "import credentials"
   ]
  },
  {
   "cell_type": "code",
   "execution_count": 61,
   "metadata": {},
   "outputs": [],
   "source": [
    "reddit = praw.Reddit(client_id = credentials.client_id, client_secret = credentials.client_secret, user_agent = credentials.user_agent)"
   ]
  },
  {
   "cell_type": "code",
   "execution_count": 62,
   "metadata": {},
   "outputs": [],
   "source": [
    "subred = reddit.subreddit('Random_Acts_Of_Pizza')"
   ]
  },
  {
   "cell_type": "code",
   "execution_count": 63,
   "metadata": {},
   "outputs": [
    {
     "data": {
      "text/plain": [
       "praw.models.reddit.subreddit.Subreddit"
      ]
     },
     "execution_count": 63,
     "metadata": {},
     "output_type": "execute_result"
    }
   ],
   "source": [
    "type(subred)"
   ]
  },
  {
   "cell_type": "markdown",
   "metadata": {},
   "source": [
    "I pulled in a total of 58,541 entries that was extracted out from PushShiftData API. "
   ]
  },
  {
   "cell_type": "code",
   "execution_count": 316,
   "metadata": {},
   "outputs": [],
   "source": [
    "reddit_df = pd.read_csv('reddit_testing.csv').reset_index()"
   ]
  },
  {
   "cell_type": "code",
   "execution_count": 317,
   "metadata": {},
   "outputs": [
    {
     "data": {
      "text/html": [
       "<div>\n",
       "<style scoped>\n",
       "    .dataframe tbody tr th:only-of-type {\n",
       "        vertical-align: middle;\n",
       "    }\n",
       "\n",
       "    .dataframe tbody tr th {\n",
       "        vertical-align: top;\n",
       "    }\n",
       "\n",
       "    .dataframe thead th {\n",
       "        text-align: right;\n",
       "    }\n",
       "</style>\n",
       "<table border=\"1\" class=\"dataframe\">\n",
       "  <thead>\n",
       "    <tr style=\"text-align: right;\">\n",
       "      <th></th>\n",
       "      <th>index</th>\n",
       "      <th>Post ID</th>\n",
       "      <th>Title</th>\n",
       "      <th>Publish Date</th>\n",
       "      <th>Flair</th>\n",
       "    </tr>\n",
       "  </thead>\n",
       "  <tbody>\n",
       "    <tr>\n",
       "      <th>0</th>\n",
       "      <td>1u4mqs</td>\n",
       "      <td>Im Hungry on nye [Request]</td>\n",
       "      <td>2013-12-31 19:25:50</td>\n",
       "      <td>I'm a lonely loner tonight, with my kittens . ...</td>\n",
       "      <td>NaN</td>\n",
       "    </tr>\n",
       "    <tr>\n",
       "      <th>1</th>\n",
       "      <td>1u4nh5</td>\n",
       "      <td>[request] Just another alone on NYE, sick of b...</td>\n",
       "      <td>2013-12-31 19:35:31</td>\n",
       "      <td>So my sob story is about the same as any other...</td>\n",
       "      <td>NaN</td>\n",
       "    </tr>\n",
       "    <tr>\n",
       "      <th>2</th>\n",
       "      <td>1u4nm8</td>\n",
       "      <td>[request] Today is also my birthday, spending ...</td>\n",
       "      <td>2013-12-31 19:37:32</td>\n",
       "      <td>I turned 21 today, and my mom left my dad on b...</td>\n",
       "      <td>NaN</td>\n",
       "    </tr>\n",
       "    <tr>\n",
       "      <th>3</th>\n",
       "      <td>1u4ow8</td>\n",
       "      <td>[Request] Alone and sick on NYE.. could use a ...</td>\n",
       "      <td>2013-12-31 19:54:26</td>\n",
       "      <td>Feeling a little bummed out that I'm bringing ...</td>\n",
       "      <td>NaN</td>\n",
       "    </tr>\n",
       "    <tr>\n",
       "      <th>4</th>\n",
       "      <td>1u4oyt</td>\n",
       "      <td>[REQUEST] home, alone, broke, and hungry</td>\n",
       "      <td>2013-12-31 19:55:18</td>\n",
       "      <td>Broke, $1 to my name, wishing I had a job so b...</td>\n",
       "      <td>NaN</td>\n",
       "    </tr>\n",
       "  </tbody>\n",
       "</table>\n",
       "</div>"
      ],
      "text/plain": [
       "    index                                            Post ID  \\\n",
       "0  1u4mqs                         Im Hungry on nye [Request]   \n",
       "1  1u4nh5  [request] Just another alone on NYE, sick of b...   \n",
       "2  1u4nm8  [request] Today is also my birthday, spending ...   \n",
       "3  1u4ow8  [Request] Alone and sick on NYE.. could use a ...   \n",
       "4  1u4oyt           [REQUEST] home, alone, broke, and hungry   \n",
       "\n",
       "                 Title                                       Publish Date  \\\n",
       "0  2013-12-31 19:25:50  I'm a lonely loner tonight, with my kittens . ...   \n",
       "1  2013-12-31 19:35:31  So my sob story is about the same as any other...   \n",
       "2  2013-12-31 19:37:32  I turned 21 today, and my mom left my dad on b...   \n",
       "3  2013-12-31 19:54:26  Feeling a little bummed out that I'm bringing ...   \n",
       "4  2013-12-31 19:55:18  Broke, $1 to my name, wishing I had a job so b...   \n",
       "\n",
       "  Flair  \n",
       "0   NaN  \n",
       "1   NaN  \n",
       "2   NaN  \n",
       "3   NaN  \n",
       "4   NaN  "
      ]
     },
     "execution_count": 317,
     "metadata": {},
     "output_type": "execute_result"
    }
   ],
   "source": [
    "reddit_df.head()"
   ]
  },
  {
   "cell_type": "code",
   "execution_count": 318,
   "metadata": {},
   "outputs": [],
   "source": [
    "reddit_df.columns = ['submission_id', 'title', 'unix_timestamp_of_request_utc', 'request_text', 'received_request']"
   ]
  },
  {
   "cell_type": "code",
   "execution_count": 319,
   "metadata": {},
   "outputs": [
    {
     "data": {
      "text/html": [
       "<div>\n",
       "<style scoped>\n",
       "    .dataframe tbody tr th:only-of-type {\n",
       "        vertical-align: middle;\n",
       "    }\n",
       "\n",
       "    .dataframe tbody tr th {\n",
       "        vertical-align: top;\n",
       "    }\n",
       "\n",
       "    .dataframe thead th {\n",
       "        text-align: right;\n",
       "    }\n",
       "</style>\n",
       "<table border=\"1\" class=\"dataframe\">\n",
       "  <thead>\n",
       "    <tr style=\"text-align: right;\">\n",
       "      <th></th>\n",
       "      <th>submission_id</th>\n",
       "      <th>title</th>\n",
       "      <th>unix_timestamp_of_request_utc</th>\n",
       "      <th>request_text</th>\n",
       "      <th>received_request</th>\n",
       "    </tr>\n",
       "  </thead>\n",
       "  <tbody>\n",
       "    <tr>\n",
       "      <th>0</th>\n",
       "      <td>1u4mqs</td>\n",
       "      <td>Im Hungry on nye [Request]</td>\n",
       "      <td>2013-12-31 19:25:50</td>\n",
       "      <td>I'm a lonely loner tonight, with my kittens . ...</td>\n",
       "      <td>NaN</td>\n",
       "    </tr>\n",
       "    <tr>\n",
       "      <th>1</th>\n",
       "      <td>1u4nh5</td>\n",
       "      <td>[request] Just another alone on NYE, sick of b...</td>\n",
       "      <td>2013-12-31 19:35:31</td>\n",
       "      <td>So my sob story is about the same as any other...</td>\n",
       "      <td>NaN</td>\n",
       "    </tr>\n",
       "    <tr>\n",
       "      <th>2</th>\n",
       "      <td>1u4nm8</td>\n",
       "      <td>[request] Today is also my birthday, spending ...</td>\n",
       "      <td>2013-12-31 19:37:32</td>\n",
       "      <td>I turned 21 today, and my mom left my dad on b...</td>\n",
       "      <td>NaN</td>\n",
       "    </tr>\n",
       "    <tr>\n",
       "      <th>3</th>\n",
       "      <td>1u4ow8</td>\n",
       "      <td>[Request] Alone and sick on NYE.. could use a ...</td>\n",
       "      <td>2013-12-31 19:54:26</td>\n",
       "      <td>Feeling a little bummed out that I'm bringing ...</td>\n",
       "      <td>NaN</td>\n",
       "    </tr>\n",
       "    <tr>\n",
       "      <th>4</th>\n",
       "      <td>1u4oyt</td>\n",
       "      <td>[REQUEST] home, alone, broke, and hungry</td>\n",
       "      <td>2013-12-31 19:55:18</td>\n",
       "      <td>Broke, $1 to my name, wishing I had a job so b...</td>\n",
       "      <td>NaN</td>\n",
       "    </tr>\n",
       "  </tbody>\n",
       "</table>\n",
       "</div>"
      ],
      "text/plain": [
       "  submission_id                                              title  \\\n",
       "0        1u4mqs                         Im Hungry on nye [Request]   \n",
       "1        1u4nh5  [request] Just another alone on NYE, sick of b...   \n",
       "2        1u4nm8  [request] Today is also my birthday, spending ...   \n",
       "3        1u4ow8  [Request] Alone and sick on NYE.. could use a ...   \n",
       "4        1u4oyt           [REQUEST] home, alone, broke, and hungry   \n",
       "\n",
       "  unix_timestamp_of_request_utc  \\\n",
       "0           2013-12-31 19:25:50   \n",
       "1           2013-12-31 19:35:31   \n",
       "2           2013-12-31 19:37:32   \n",
       "3           2013-12-31 19:54:26   \n",
       "4           2013-12-31 19:55:18   \n",
       "\n",
       "                                        request_text received_request  \n",
       "0  I'm a lonely loner tonight, with my kittens . ...              NaN  \n",
       "1  So my sob story is about the same as any other...              NaN  \n",
       "2  I turned 21 today, and my mom left my dad on b...              NaN  \n",
       "3  Feeling a little bummed out that I'm bringing ...              NaN  \n",
       "4  Broke, $1 to my name, wishing I had a job so b...              NaN  "
      ]
     },
     "execution_count": 319,
     "metadata": {},
     "output_type": "execute_result"
    }
   ],
   "source": [
    "reddit_df.head()"
   ]
  },
  {
   "cell_type": "code",
   "execution_count": 320,
   "metadata": {},
   "outputs": [],
   "source": [
    "submission_id_list = reddit_df['submission_id']"
   ]
  },
  {
   "cell_type": "code",
   "execution_count": 338,
   "metadata": {},
   "outputs": [
    {
     "data": {
      "text/plain": [
       "Fulfilled           1125\n",
       "No Longer Needed     575\n",
       "In Progress          112\n",
       "Closed                 3\n",
       "Request                2\n",
       "Fulfilled              2\n",
       "Expired                1\n",
       "no longer needed       1\n",
       "Thanks                 1\n",
       "Contest                1\n",
       "fulfilled              1\n",
       "No longer needed       1\n",
       "Name: received_request, dtype: int64"
      ]
     },
     "execution_count": 338,
     "metadata": {},
     "output_type": "execute_result"
    }
   ],
   "source": [
    "reddit_df['received_request'].value_counts()"
   ]
  },
  {
   "cell_type": "markdown",
   "metadata": {},
   "source": [
    "Here, I decided to drop all rows that had no values within the body of the request, since we wouldn't be able to apply NLP to them."
   ]
  },
  {
   "cell_type": "code",
   "execution_count": 351,
   "metadata": {},
   "outputs": [],
   "source": [
    "indexNames = reddit_df[reddit_df['request_text'].isnull()].index\n",
    "# Delete these row indexes from dataFrame\n",
    "reddit_df.drop(indexNames, inplace = True)"
   ]
  },
  {
   "cell_type": "code",
   "execution_count": 352,
   "metadata": {},
   "outputs": [
    {
     "data": {
      "text/html": [
       "<div>\n",
       "<style scoped>\n",
       "    .dataframe tbody tr th:only-of-type {\n",
       "        vertical-align: middle;\n",
       "    }\n",
       "\n",
       "    .dataframe tbody tr th {\n",
       "        vertical-align: top;\n",
       "    }\n",
       "\n",
       "    .dataframe thead th {\n",
       "        text-align: right;\n",
       "    }\n",
       "</style>\n",
       "<table border=\"1\" class=\"dataframe\">\n",
       "  <thead>\n",
       "    <tr style=\"text-align: right;\">\n",
       "      <th></th>\n",
       "      <th>submission_id</th>\n",
       "      <th>title</th>\n",
       "      <th>unix_timestamp_of_request_utc</th>\n",
       "      <th>request_text</th>\n",
       "      <th>received_request</th>\n",
       "    </tr>\n",
       "  </thead>\n",
       "  <tbody>\n",
       "    <tr>\n",
       "      <th>0</th>\n",
       "      <td>1u4mqs</td>\n",
       "      <td>Im Hungry on nye [Request]</td>\n",
       "      <td>2013-12-31 19:25:50</td>\n",
       "      <td>I'm a lonely loner tonight, with my kittens . ...</td>\n",
       "      <td>NaN</td>\n",
       "    </tr>\n",
       "    <tr>\n",
       "      <th>1</th>\n",
       "      <td>1u4nh5</td>\n",
       "      <td>[request] Just another alone on NYE, sick of b...</td>\n",
       "      <td>2013-12-31 19:35:31</td>\n",
       "      <td>So my sob story is about the same as any other...</td>\n",
       "      <td>NaN</td>\n",
       "    </tr>\n",
       "    <tr>\n",
       "      <th>2</th>\n",
       "      <td>1u4nm8</td>\n",
       "      <td>[request] Today is also my birthday, spending ...</td>\n",
       "      <td>2013-12-31 19:37:32</td>\n",
       "      <td>I turned 21 today, and my mom left my dad on b...</td>\n",
       "      <td>NaN</td>\n",
       "    </tr>\n",
       "    <tr>\n",
       "      <th>3</th>\n",
       "      <td>1u4ow8</td>\n",
       "      <td>[Request] Alone and sick on NYE.. could use a ...</td>\n",
       "      <td>2013-12-31 19:54:26</td>\n",
       "      <td>Feeling a little bummed out that I'm bringing ...</td>\n",
       "      <td>NaN</td>\n",
       "    </tr>\n",
       "    <tr>\n",
       "      <th>4</th>\n",
       "      <td>1u4oyt</td>\n",
       "      <td>[REQUEST] home, alone, broke, and hungry</td>\n",
       "      <td>2013-12-31 19:55:18</td>\n",
       "      <td>Broke, $1 to my name, wishing I had a job so b...</td>\n",
       "      <td>NaN</td>\n",
       "    </tr>\n",
       "    <tr>\n",
       "      <th>...</th>\n",
       "      <td>...</td>\n",
       "      <td>...</td>\n",
       "      <td>...</td>\n",
       "      <td>...</td>\n",
       "      <td>...</td>\n",
       "    </tr>\n",
       "    <tr>\n",
       "      <th>58536</th>\n",
       "      <td>i959n8</td>\n",
       "      <td>[Request] it’s been a long two weeks, my accou...</td>\n",
       "      <td>2020-08-13 14:24:11</td>\n",
       "      <td>Hi guys, a couple things came up and my accoun...</td>\n",
       "      <td>NaN</td>\n",
       "    </tr>\n",
       "    <tr>\n",
       "      <th>58537</th>\n",
       "      <td>i95d92</td>\n",
       "      <td>[request] I got invited to a friend and want t...</td>\n",
       "      <td>2020-08-13 14:29:38</td>\n",
       "      <td>I'm in the Netherlands and will pay it forward...</td>\n",
       "      <td>NaN</td>\n",
       "    </tr>\n",
       "    <tr>\n",
       "      <th>58538</th>\n",
       "      <td>i98cwp</td>\n",
       "      <td>[request] Ohioan no money or food until the 17...</td>\n",
       "      <td>2020-08-13 17:09:00</td>\n",
       "      <td>[removed]</td>\n",
       "      <td>NaN</td>\n",
       "    </tr>\n",
       "    <tr>\n",
       "      <th>58539</th>\n",
       "      <td>i99qcp</td>\n",
       "      <td>[REQUEST] Don’t get paid till the 14th, and my...</td>\n",
       "      <td>2020-08-13 18:24:41</td>\n",
       "      <td>$5 in my account</td>\n",
       "      <td>NaN</td>\n",
       "    </tr>\n",
       "    <tr>\n",
       "      <th>58540</th>\n",
       "      <td>i9afzf</td>\n",
       "      <td>[REQUEST] I'm very close to a pizza</td>\n",
       "      <td>2020-08-13 19:05:03</td>\n",
       "      <td>[removed]</td>\n",
       "      <td>NaN</td>\n",
       "    </tr>\n",
       "  </tbody>\n",
       "</table>\n",
       "<p>52748 rows × 5 columns</p>\n",
       "</div>"
      ],
      "text/plain": [
       "      submission_id                                              title  \\\n",
       "0            1u4mqs                         Im Hungry on nye [Request]   \n",
       "1            1u4nh5  [request] Just another alone on NYE, sick of b...   \n",
       "2            1u4nm8  [request] Today is also my birthday, spending ...   \n",
       "3            1u4ow8  [Request] Alone and sick on NYE.. could use a ...   \n",
       "4            1u4oyt           [REQUEST] home, alone, broke, and hungry   \n",
       "...             ...                                                ...   \n",
       "58536        i959n8  [Request] it’s been a long two weeks, my accou...   \n",
       "58537        i95d92  [request] I got invited to a friend and want t...   \n",
       "58538        i98cwp  [request] Ohioan no money or food until the 17...   \n",
       "58539        i99qcp  [REQUEST] Don’t get paid till the 14th, and my...   \n",
       "58540        i9afzf                [REQUEST] I'm very close to a pizza   \n",
       "\n",
       "      unix_timestamp_of_request_utc  \\\n",
       "0               2013-12-31 19:25:50   \n",
       "1               2013-12-31 19:35:31   \n",
       "2               2013-12-31 19:37:32   \n",
       "3               2013-12-31 19:54:26   \n",
       "4               2013-12-31 19:55:18   \n",
       "...                             ...   \n",
       "58536           2020-08-13 14:24:11   \n",
       "58537           2020-08-13 14:29:38   \n",
       "58538           2020-08-13 17:09:00   \n",
       "58539           2020-08-13 18:24:41   \n",
       "58540           2020-08-13 19:05:03   \n",
       "\n",
       "                                            request_text received_request  \n",
       "0      I'm a lonely loner tonight, with my kittens . ...              NaN  \n",
       "1      So my sob story is about the same as any other...              NaN  \n",
       "2      I turned 21 today, and my mom left my dad on b...              NaN  \n",
       "3      Feeling a little bummed out that I'm bringing ...              NaN  \n",
       "4      Broke, $1 to my name, wishing I had a job so b...              NaN  \n",
       "...                                                  ...              ...  \n",
       "58536  Hi guys, a couple things came up and my accoun...              NaN  \n",
       "58537  I'm in the Netherlands and will pay it forward...              NaN  \n",
       "58538                                          [removed]              NaN  \n",
       "58539                                   $5 in my account              NaN  \n",
       "58540                                          [removed]              NaN  \n",
       "\n",
       "[52748 rows x 5 columns]"
      ]
     },
     "execution_count": 352,
     "metadata": {},
     "output_type": "execute_result"
    }
   ],
   "source": [
    "reddit_df"
   ]
  },
  {
   "cell_type": "markdown",
   "metadata": {},
   "source": [
    "Since there were a total of 52,748 entries, I had to break the submissions in a total of 3 parts."
   ]
  },
  {
   "cell_type": "code",
   "execution_count": 353,
   "metadata": {},
   "outputs": [],
   "source": [
    "submission_id_list = reddit_df['submission_id']"
   ]
  },
  {
   "cell_type": "code",
   "execution_count": null,
   "metadata": {},
   "outputs": [],
   "source": [
    "received_request_true = []\n",
    "for each in submission_id_list:\n",
    "    submission = reddit.submission(id = each)\n",
    "    received_request_true.append(submission.link_flair_text)"
   ]
  },
  {
   "cell_type": "code",
   "execution_count": 357,
   "metadata": {},
   "outputs": [
    {
     "data": {
      "text/plain": [
       "27482"
      ]
     },
     "execution_count": 357,
     "metadata": {},
     "output_type": "execute_result"
    }
   ],
   "source": [
    "len(received_request_true)"
   ]
  },
  {
   "cell_type": "code",
   "execution_count": 368,
   "metadata": {},
   "outputs": [
    {
     "data": {
      "text/plain": [
       "678"
      ]
     },
     "execution_count": 368,
     "metadata": {},
     "output_type": "execute_result"
    }
   ],
   "source": [
    "received_request_true.count('Fulfilled')"
   ]
  },
  {
   "cell_type": "code",
   "execution_count": 370,
   "metadata": {},
   "outputs": [],
   "source": [
    "second_slice_pizza = reddit_df.iloc[27482:]"
   ]
  },
  {
   "cell_type": "code",
   "execution_count": 372,
   "metadata": {},
   "outputs": [],
   "source": [
    "submission_id_list2 = second_slice_pizza['submission_id']"
   ]
  },
  {
   "cell_type": "code",
   "execution_count": null,
   "metadata": {},
   "outputs": [],
   "source": [
    "received_request_true2 = []\n",
    "for each in submission_id_list2:\n",
    "    submission = reddit.submission(id = each)\n",
    "    received_request_true2.append(submission.link_flair_text)"
   ]
  },
  {
   "cell_type": "code",
   "execution_count": 399,
   "metadata": {},
   "outputs": [],
   "source": [
    "third slice_pizza = reddit_df.iloc[40332:]"
   ]
  },
  {
   "cell_type": "code",
   "execution_count": 400,
   "metadata": {},
   "outputs": [],
   "source": [
    "submission_id_list3 = third_slice_pizza['submission_id']"
   ]
  },
  {
   "cell_type": "code",
   "execution_count": 401,
   "metadata": {},
   "outputs": [],
   "source": [
    "received_request_true3 = []\n",
    "for each in submission_id_list3:\n",
    "    submission = reddit.submission(id = each)\n",
    "    received_request_true3.append(submission.link_flair_text)"
   ]
  },
  {
   "cell_type": "code",
   "execution_count": 402,
   "metadata": {},
   "outputs": [
    {
     "data": {
      "text/plain": [
       "12416"
      ]
     },
     "execution_count": 402,
     "metadata": {},
     "output_type": "execute_result"
    }
   ],
   "source": [
    "len(received_request_true3)"
   ]
  },
  {
   "cell_type": "code",
   "execution_count": 403,
   "metadata": {},
   "outputs": [],
   "source": [
    "total_joined_list = received_request_true + received_request_true2 + received_request_true3"
   ]
  },
  {
   "cell_type": "code",
   "execution_count": 404,
   "metadata": {},
   "outputs": [
    {
     "data": {
      "text/plain": [
       "52748"
      ]
     },
     "execution_count": 404,
     "metadata": {},
     "output_type": "execute_result"
    }
   ],
   "source": [
    "len(total_joined_list)"
   ]
  },
  {
   "cell_type": "code",
   "execution_count": 405,
   "metadata": {},
   "outputs": [],
   "source": [
    "reddit_df['received_request_api'] = total_joined_list"
   ]
  },
  {
   "cell_type": "code",
   "execution_count": 408,
   "metadata": {},
   "outputs": [
    {
     "data": {
      "text/plain": [
       "NaN                 47398\n",
       "Fulfilled            3750\n",
       "No Longer Needed     1400\n",
       "In Progress           174\n",
       "Closed                 15\n",
       "Expired                 2\n",
       "Request                 2\n",
       "Fulfilled               2\n",
       "no longer needed        1\n",
       "Thanks                  1\n",
       "Contest                 1\n",
       "fulfilled               1\n",
       "No longer needed        1\n",
       "Name: received_request_api, dtype: int64"
      ]
     },
     "execution_count": 408,
     "metadata": {},
     "output_type": "execute_result"
    }
   ],
   "source": [
    "reddit_df['received_request_api'].value_counts(dropna = False)"
   ]
  },
  {
   "cell_type": "markdown",
   "metadata": {},
   "source": [
    "After combining all the grabbed flair texts into a single dataframe, I cleaned up by removing all requests' bodies that had 'removed' or 'deleted'."
   ]
  },
  {
   "cell_type": "code",
   "execution_count": 426,
   "metadata": {},
   "outputs": [],
   "source": [
    "clean_reddit_df = reddit_df[reddit_df['request_text'] != '[removed]']\n",
    "clean_reddit_df = clean_reddit_df[clean_reddit_df['request_text'] != '[deleted]']"
   ]
  },
  {
   "cell_type": "code",
   "execution_count": 430,
   "metadata": {},
   "outputs": [],
   "source": [
    "clean_reddit_df['received_request_api'] = clean_reddit_df['received_request_api'].str.lower().str.strip()"
   ]
  },
  {
   "cell_type": "code",
   "execution_count": 436,
   "metadata": {},
   "outputs": [
    {
     "data": {
      "text/plain": [
       "NaN                 29311\n",
       "fulfilled            3673\n",
       "no longer needed     1137\n",
       "in progress           168\n",
       "closed                 14\n",
       "expired                 2\n",
       "thanks                  1\n",
       "request                 1\n",
       "contest                 1\n",
       "Name: received_request_api, dtype: int64"
      ]
     },
     "execution_count": 436,
     "metadata": {},
     "output_type": "execute_result"
    }
   ],
   "source": [
    "clean_reddit_df['received_request_api'].value_counts(dropna = False)"
   ]
  },
  {
   "cell_type": "markdown",
   "metadata": {},
   "source": [
    "I decided to filter out only for requests that were either fulfilled or NaN, since fulfilled would mean that the user received pizza and NaN would mean the user did not."
   ]
  },
  {
   "cell_type": "code",
   "execution_count": 1,
   "metadata": {},
   "outputs": [
    {
     "ename": "NameError",
     "evalue": "name 'clean_reddit_df' is not defined",
     "output_type": "error",
     "traceback": [
      "\u001b[0;31m---------------------------------------------------------------------------\u001b[0m",
      "\u001b[0;31mNameError\u001b[0m                                 Traceback (most recent call last)",
      "\u001b[0;32m<ipython-input-1-efa03a29c7de>\u001b[0m in \u001b[0;36m<module>\u001b[0;34m\u001b[0m\n\u001b[0;32m----> 1\u001b[0;31m \u001b[0mfinal_clean\u001b[0m \u001b[0;34m=\u001b[0m \u001b[0mclean_reddit_df\u001b[0m\u001b[0;34m[\u001b[0m\u001b[0;34m(\u001b[0m\u001b[0mclean_reddit_df\u001b[0m\u001b[0;34m[\u001b[0m\u001b[0;34m'received_request_api'\u001b[0m\u001b[0;34m]\u001b[0m \u001b[0;34m==\u001b[0m \u001b[0;34m'fulfilled'\u001b[0m\u001b[0;34m)\u001b[0m \u001b[0;34m|\u001b[0m \u001b[0;34m(\u001b[0m\u001b[0mclean_reddit_df\u001b[0m\u001b[0;34m[\u001b[0m\u001b[0;34m'received_request_api'\u001b[0m\u001b[0;34m]\u001b[0m\u001b[0;34m.\u001b[0m\u001b[0misna\u001b[0m\u001b[0;34m(\u001b[0m\u001b[0;34m)\u001b[0m\u001b[0;34m)\u001b[0m\u001b[0;34m]\u001b[0m\u001b[0;34m\u001b[0m\u001b[0;34m\u001b[0m\u001b[0m\n\u001b[0m",
      "\u001b[0;31mNameError\u001b[0m: name 'clean_reddit_df' is not defined"
     ]
    }
   ],
   "source": [
    "final_clean = clean_reddit_df[(clean_reddit_df['received_request_api'] == 'fulfilled') | (clean_reddit_df['received_request_api'].isna())]"
   ]
  },
  {
   "cell_type": "markdown",
   "metadata": {},
   "source": [
    "I combined the title and request text together to deploy NLP more easily in my project."
   ]
  },
  {
   "cell_type": "code",
   "execution_count": 445,
   "metadata": {},
   "outputs": [
    {
     "name": "stderr",
     "output_type": "stream",
     "text": [
      "/Users/rudywang/opt/anaconda3/lib/python3.7/site-packages/ipykernel_launcher.py:3: SettingWithCopyWarning: \n",
      "A value is trying to be set on a copy of a slice from a DataFrame.\n",
      "Try using .loc[row_indexer,col_indexer] = value instead\n",
      "\n",
      "See the caveats in the documentation: https://pandas.pydata.org/pandas-docs/stable/user_guide/indexing.html#returning-a-view-versus-a-copy\n",
      "  This is separate from the ipykernel package so we can avoid doing imports until\n"
     ]
    }
   ],
   "source": [
    "# Let's go ahead and drop the columns I do not need.\n",
    "\n",
    "final_clean['request_text'] = final_clean['title'] + ' ' + final_clean['request_text']"
   ]
  },
  {
   "cell_type": "code",
   "execution_count": 448,
   "metadata": {},
   "outputs": [],
   "source": [
    "final_clean = final_clean[['request_text', 'received_request_api', 'unix_timestamp_of_request_utc']]"
   ]
  },
  {
   "cell_type": "code",
   "execution_count": 450,
   "metadata": {},
   "outputs": [
    {
     "name": "stderr",
     "output_type": "stream",
     "text": [
      "/Users/rudywang/opt/anaconda3/lib/python3.7/site-packages/pandas/core/frame.py:4133: SettingWithCopyWarning: \n",
      "A value is trying to be set on a copy of a slice from a DataFrame\n",
      "\n",
      "See the caveats in the documentation: https://pandas.pydata.org/pandas-docs/stable/user_guide/indexing.html#returning-a-view-versus-a-copy\n",
      "  errors=errors,\n"
     ]
    }
   ],
   "source": [
    "final_clean.rename(columns = {'received_request_api': 'received_pizza'}, inplace = True)"
   ]
  },
  {
   "cell_type": "code",
   "execution_count": 460,
   "metadata": {},
   "outputs": [],
   "source": [
    "# Let's convert the 'received_pizza' column values from None to False, and fulfilled to True to match the Kaggle Dataset DF.\n",
    "\n",
    "final_clean = final_clean.fillna('False')\n",
    "final_clean['received_pizza'] = final_clean['received_pizza'].str.replace('fulfilled', 'True')"
   ]
  },
  {
   "cell_type": "code",
   "execution_count": 529,
   "metadata": {},
   "outputs": [],
   "source": [
    "# Let's go ahead and also drop all the duplicates.\n",
    "\n",
    "final_clean = final_clean.drop_duplicates()"
   ]
  },
  {
   "cell_type": "code",
   "execution_count": 530,
   "metadata": {},
   "outputs": [
    {
     "data": {
      "text/plain": [
       "False    29307\n",
       "True      3673\n",
       "Name: received_pizza, dtype: int64"
      ]
     },
     "execution_count": 530,
     "metadata": {},
     "output_type": "execute_result"
    }
   ],
   "source": [
    "final_clean['received_pizza'].value_counts()"
   ]
  },
  {
   "cell_type": "code",
   "execution_count": 66,
   "metadata": {},
   "outputs": [
    {
     "ename": "NameError",
     "evalue": "name 'final_clean' is not defined",
     "output_type": "error",
     "traceback": [
      "\u001b[0;31m---------------------------------------------------------------------------\u001b[0m",
      "\u001b[0;31mNameError\u001b[0m                                 Traceback (most recent call last)",
      "\u001b[0;32m<ipython-input-66-b4980b8edb2d>\u001b[0m in \u001b[0;36m<module>\u001b[0;34m\u001b[0m\n\u001b[0;32m----> 1\u001b[0;31m \u001b[0mfinal_clean\u001b[0m\u001b[0;34m\u001b[0m\u001b[0;34m\u001b[0m\u001b[0m\n\u001b[0m",
      "\u001b[0;31mNameError\u001b[0m: name 'final_clean' is not defined"
     ]
    }
   ],
   "source": [
    "final_clean"
   ]
  },
  {
   "cell_type": "code",
   "execution_count": 538,
   "metadata": {},
   "outputs": [],
   "source": [
    "#final_clean.to_csv('final_clean2.csv', index = False)"
   ]
  },
  {
   "cell_type": "code",
   "execution_count": 543,
   "metadata": {},
   "outputs": [],
   "source": [
    "test_csv = pd.read_csv('final_clean2.csv')"
   ]
  },
  {
   "cell_type": "markdown",
   "metadata": {},
   "source": [
    "# Kaggle Testing Dataset \n",
    "\n",
    "The Kaggle Testing Dataset had no flairs, so I decided to use the submissionids to pull the flairs using PRAW API."
   ]
  },
  {
   "cell_type": "code",
   "execution_count": 10,
   "metadata": {},
   "outputs": [],
   "source": [
    "import pandas as pd"
   ]
  },
  {
   "cell_type": "code",
   "execution_count": 46,
   "metadata": {},
   "outputs": [],
   "source": [
    "kaggle_testing = pd.read_csv('kaggle_pizza_test.csv')"
   ]
  },
  {
   "cell_type": "code",
   "execution_count": 47,
   "metadata": {},
   "outputs": [
    {
     "data": {
      "text/html": [
       "<div>\n",
       "<style scoped>\n",
       "    .dataframe tbody tr th:only-of-type {\n",
       "        vertical-align: middle;\n",
       "    }\n",
       "\n",
       "    .dataframe tbody tr th {\n",
       "        vertical-align: top;\n",
       "    }\n",
       "\n",
       "    .dataframe thead th {\n",
       "        text-align: right;\n",
       "    }\n",
       "</style>\n",
       "<table border=\"1\" class=\"dataframe\">\n",
       "  <thead>\n",
       "    <tr style=\"text-align: right;\">\n",
       "      <th></th>\n",
       "      <th>request_text</th>\n",
       "      <th>submissionids</th>\n",
       "      <th>unix_timestamp_of_request_utc</th>\n",
       "    </tr>\n",
       "  </thead>\n",
       "  <tbody>\n",
       "    <tr>\n",
       "      <th>0</th>\n",
       "      <td>[request] pregger gf 95 degree house and no fo...</td>\n",
       "      <td>i8iy4</td>\n",
       "      <td>2011-06-24 23:56:59</td>\n",
       "    </tr>\n",
       "    <tr>\n",
       "      <th>1</th>\n",
       "      <td>[Request] Lost my job day after labour day, st...</td>\n",
       "      <td>1mfqi0</td>\n",
       "      <td>2013-09-15 15:45:23</td>\n",
       "    </tr>\n",
       "    <tr>\n",
       "      <th>2</th>\n",
       "      <td>[Request] Just moved to a new state(Waltham MA...</td>\n",
       "      <td>1jdgdj</td>\n",
       "      <td>2013-07-30 20:38:02</td>\n",
       "    </tr>\n",
       "    <tr>\n",
       "      <th>3</th>\n",
       "      <td>(Request) pizza for my kids please? Hi Reddit....</td>\n",
       "      <td>lclka</td>\n",
       "      <td>2011-10-14 22:53:41</td>\n",
       "    </tr>\n",
       "    <tr>\n",
       "      <th>4</th>\n",
       "      <td>[Request] Two girls in between paychecks, we'v...</td>\n",
       "      <td>t2qt4</td>\n",
       "      <td>2012-05-02 03:52:38</td>\n",
       "    </tr>\n",
       "    <tr>\n",
       "      <th>...</th>\n",
       "      <td>...</td>\n",
       "      <td>...</td>\n",
       "      <td>...</td>\n",
       "    </tr>\n",
       "    <tr>\n",
       "      <th>1626</th>\n",
       "      <td>[Request] MONTERREY, I'm hungry :( I hope we M...</td>\n",
       "      <td>iwbsf</td>\n",
       "      <td>2011-07-21 23:57:17</td>\n",
       "    </tr>\n",
       "    <tr>\n",
       "      <th>1627</th>\n",
       "      <td>[Request] Durham NH broke call center employee...</td>\n",
       "      <td>1foy3z</td>\n",
       "      <td>2013-06-05 01:35:40</td>\n",
       "    </tr>\n",
       "    <tr>\n",
       "      <th>1628</th>\n",
       "      <td>[Request] California USA  Last of my money wen...</td>\n",
       "      <td>11wza2</td>\n",
       "      <td>2012-10-23 00:52:29</td>\n",
       "    </tr>\n",
       "    <tr>\n",
       "      <th>1629</th>\n",
       "      <td>requesting some pizza for tonight!! Hey everyo...</td>\n",
       "      <td>iihye</td>\n",
       "      <td>2011-07-06 22:33:02</td>\n",
       "    </tr>\n",
       "    <tr>\n",
       "      <th>1630</th>\n",
       "      <td>[Request] Roommate just left me high and dry. ...</td>\n",
       "      <td>1m53fu</td>\n",
       "      <td>2013-09-11 00:12:34</td>\n",
       "    </tr>\n",
       "  </tbody>\n",
       "</table>\n",
       "<p>1631 rows × 3 columns</p>\n",
       "</div>"
      ],
      "text/plain": [
       "                                           request_text submissionids  \\\n",
       "0     [request] pregger gf 95 degree house and no fo...         i8iy4   \n",
       "1     [Request] Lost my job day after labour day, st...        1mfqi0   \n",
       "2     [Request] Just moved to a new state(Waltham MA...        1jdgdj   \n",
       "3     (Request) pizza for my kids please? Hi Reddit....         lclka   \n",
       "4     [Request] Two girls in between paychecks, we'v...         t2qt4   \n",
       "...                                                 ...           ...   \n",
       "1626  [Request] MONTERREY, I'm hungry :( I hope we M...         iwbsf   \n",
       "1627  [Request] Durham NH broke call center employee...        1foy3z   \n",
       "1628  [Request] California USA  Last of my money wen...        11wza2   \n",
       "1629  requesting some pizza for tonight!! Hey everyo...         iihye   \n",
       "1630  [Request] Roommate just left me high and dry. ...        1m53fu   \n",
       "\n",
       "     unix_timestamp_of_request_utc  \n",
       "0              2011-06-24 23:56:59  \n",
       "1              2013-09-15 15:45:23  \n",
       "2              2013-07-30 20:38:02  \n",
       "3              2011-10-14 22:53:41  \n",
       "4              2012-05-02 03:52:38  \n",
       "...                            ...  \n",
       "1626           2011-07-21 23:57:17  \n",
       "1627           2013-06-05 01:35:40  \n",
       "1628           2012-10-23 00:52:29  \n",
       "1629           2011-07-06 22:33:02  \n",
       "1630           2013-09-11 00:12:34  \n",
       "\n",
       "[1631 rows x 3 columns]"
      ]
     },
     "execution_count": 47,
     "metadata": {},
     "output_type": "execute_result"
    }
   ],
   "source": [
    "kaggle_testing"
   ]
  },
  {
   "cell_type": "code",
   "execution_count": 48,
   "metadata": {},
   "outputs": [],
   "source": [
    "submission_kaggle = kaggle_testing['submissionids']"
   ]
  },
  {
   "cell_type": "code",
   "execution_count": 49,
   "metadata": {},
   "outputs": [],
   "source": [
    "received_request_kaggle = []\n",
    "for each in submission_kaggle:\n",
    "    submission = reddit.submission(id = each)\n",
    "    received_request_kaggle.append(submission.link_flair_text)"
   ]
  },
  {
   "cell_type": "code",
   "execution_count": 50,
   "metadata": {},
   "outputs": [],
   "source": [
    "kaggle_testing['received_pizza'] = received_request_kaggle"
   ]
  },
  {
   "cell_type": "code",
   "execution_count": 51,
   "metadata": {},
   "outputs": [
    {
     "data": {
      "text/html": [
       "<div>\n",
       "<style scoped>\n",
       "    .dataframe tbody tr th:only-of-type {\n",
       "        vertical-align: middle;\n",
       "    }\n",
       "\n",
       "    .dataframe tbody tr th {\n",
       "        vertical-align: top;\n",
       "    }\n",
       "\n",
       "    .dataframe thead th {\n",
       "        text-align: right;\n",
       "    }\n",
       "</style>\n",
       "<table border=\"1\" class=\"dataframe\">\n",
       "  <thead>\n",
       "    <tr style=\"text-align: right;\">\n",
       "      <th></th>\n",
       "      <th>request_text</th>\n",
       "      <th>submissionids</th>\n",
       "      <th>unix_timestamp_of_request_utc</th>\n",
       "      <th>received_pizza</th>\n",
       "    </tr>\n",
       "  </thead>\n",
       "  <tbody>\n",
       "    <tr>\n",
       "      <th>0</th>\n",
       "      <td>[request] pregger gf 95 degree house and no fo...</td>\n",
       "      <td>i8iy4</td>\n",
       "      <td>2011-06-24 23:56:59</td>\n",
       "      <td>None</td>\n",
       "    </tr>\n",
       "    <tr>\n",
       "      <th>1</th>\n",
       "      <td>[Request] Lost my job day after labour day, st...</td>\n",
       "      <td>1mfqi0</td>\n",
       "      <td>2013-09-15 15:45:23</td>\n",
       "      <td>None</td>\n",
       "    </tr>\n",
       "    <tr>\n",
       "      <th>2</th>\n",
       "      <td>[Request] Just moved to a new state(Waltham MA...</td>\n",
       "      <td>1jdgdj</td>\n",
       "      <td>2013-07-30 20:38:02</td>\n",
       "      <td>None</td>\n",
       "    </tr>\n",
       "    <tr>\n",
       "      <th>3</th>\n",
       "      <td>(Request) pizza for my kids please? Hi Reddit....</td>\n",
       "      <td>lclka</td>\n",
       "      <td>2011-10-14 22:53:41</td>\n",
       "      <td>None</td>\n",
       "    </tr>\n",
       "    <tr>\n",
       "      <th>4</th>\n",
       "      <td>[Request] Two girls in between paychecks, we'v...</td>\n",
       "      <td>t2qt4</td>\n",
       "      <td>2012-05-02 03:52:38</td>\n",
       "      <td>None</td>\n",
       "    </tr>\n",
       "    <tr>\n",
       "      <th>...</th>\n",
       "      <td>...</td>\n",
       "      <td>...</td>\n",
       "      <td>...</td>\n",
       "      <td>...</td>\n",
       "    </tr>\n",
       "    <tr>\n",
       "      <th>1626</th>\n",
       "      <td>[Request] MONTERREY, I'm hungry :( I hope we M...</td>\n",
       "      <td>iwbsf</td>\n",
       "      <td>2011-07-21 23:57:17</td>\n",
       "      <td>None</td>\n",
       "    </tr>\n",
       "    <tr>\n",
       "      <th>1627</th>\n",
       "      <td>[Request] Durham NH broke call center employee...</td>\n",
       "      <td>1foy3z</td>\n",
       "      <td>2013-06-05 01:35:40</td>\n",
       "      <td>None</td>\n",
       "    </tr>\n",
       "    <tr>\n",
       "      <th>1628</th>\n",
       "      <td>[Request] California USA  Last of my money wen...</td>\n",
       "      <td>11wza2</td>\n",
       "      <td>2012-10-23 00:52:29</td>\n",
       "      <td>None</td>\n",
       "    </tr>\n",
       "    <tr>\n",
       "      <th>1629</th>\n",
       "      <td>requesting some pizza for tonight!! Hey everyo...</td>\n",
       "      <td>iihye</td>\n",
       "      <td>2011-07-06 22:33:02</td>\n",
       "      <td>None</td>\n",
       "    </tr>\n",
       "    <tr>\n",
       "      <th>1630</th>\n",
       "      <td>[Request] Roommate just left me high and dry. ...</td>\n",
       "      <td>1m53fu</td>\n",
       "      <td>2013-09-11 00:12:34</td>\n",
       "      <td>None</td>\n",
       "    </tr>\n",
       "  </tbody>\n",
       "</table>\n",
       "<p>1631 rows × 4 columns</p>\n",
       "</div>"
      ],
      "text/plain": [
       "                                           request_text submissionids  \\\n",
       "0     [request] pregger gf 95 degree house and no fo...         i8iy4   \n",
       "1     [Request] Lost my job day after labour day, st...        1mfqi0   \n",
       "2     [Request] Just moved to a new state(Waltham MA...        1jdgdj   \n",
       "3     (Request) pizza for my kids please? Hi Reddit....         lclka   \n",
       "4     [Request] Two girls in between paychecks, we'v...         t2qt4   \n",
       "...                                                 ...           ...   \n",
       "1626  [Request] MONTERREY, I'm hungry :( I hope we M...         iwbsf   \n",
       "1627  [Request] Durham NH broke call center employee...        1foy3z   \n",
       "1628  [Request] California USA  Last of my money wen...        11wza2   \n",
       "1629  requesting some pizza for tonight!! Hey everyo...         iihye   \n",
       "1630  [Request] Roommate just left me high and dry. ...        1m53fu   \n",
       "\n",
       "     unix_timestamp_of_request_utc received_pizza  \n",
       "0              2011-06-24 23:56:59           None  \n",
       "1              2013-09-15 15:45:23           None  \n",
       "2              2013-07-30 20:38:02           None  \n",
       "3              2011-10-14 22:53:41           None  \n",
       "4              2012-05-02 03:52:38           None  \n",
       "...                            ...            ...  \n",
       "1626           2011-07-21 23:57:17           None  \n",
       "1627           2013-06-05 01:35:40           None  \n",
       "1628           2012-10-23 00:52:29           None  \n",
       "1629           2011-07-06 22:33:02           None  \n",
       "1630           2013-09-11 00:12:34           None  \n",
       "\n",
       "[1631 rows x 4 columns]"
      ]
     },
     "execution_count": 51,
     "metadata": {},
     "output_type": "execute_result"
    }
   ],
   "source": [
    "kaggle_testing"
   ]
  },
  {
   "cell_type": "code",
   "execution_count": 53,
   "metadata": {},
   "outputs": [],
   "source": [
    "kaggle_testing = kaggle_testing.fillna('False')"
   ]
  },
  {
   "cell_type": "code",
   "execution_count": 54,
   "metadata": {},
   "outputs": [
    {
     "data": {
      "text/html": [
       "<div>\n",
       "<style scoped>\n",
       "    .dataframe tbody tr th:only-of-type {\n",
       "        vertical-align: middle;\n",
       "    }\n",
       "\n",
       "    .dataframe tbody tr th {\n",
       "        vertical-align: top;\n",
       "    }\n",
       "\n",
       "    .dataframe thead th {\n",
       "        text-align: right;\n",
       "    }\n",
       "</style>\n",
       "<table border=\"1\" class=\"dataframe\">\n",
       "  <thead>\n",
       "    <tr style=\"text-align: right;\">\n",
       "      <th></th>\n",
       "      <th>request_text</th>\n",
       "      <th>submissionids</th>\n",
       "      <th>unix_timestamp_of_request_utc</th>\n",
       "      <th>received_pizza</th>\n",
       "    </tr>\n",
       "  </thead>\n",
       "  <tbody>\n",
       "    <tr>\n",
       "      <th>0</th>\n",
       "      <td>[request] pregger gf 95 degree house and no fo...</td>\n",
       "      <td>i8iy4</td>\n",
       "      <td>2011-06-24 23:56:59</td>\n",
       "      <td>False</td>\n",
       "    </tr>\n",
       "    <tr>\n",
       "      <th>1</th>\n",
       "      <td>[Request] Lost my job day after labour day, st...</td>\n",
       "      <td>1mfqi0</td>\n",
       "      <td>2013-09-15 15:45:23</td>\n",
       "      <td>False</td>\n",
       "    </tr>\n",
       "    <tr>\n",
       "      <th>2</th>\n",
       "      <td>[Request] Just moved to a new state(Waltham MA...</td>\n",
       "      <td>1jdgdj</td>\n",
       "      <td>2013-07-30 20:38:02</td>\n",
       "      <td>False</td>\n",
       "    </tr>\n",
       "    <tr>\n",
       "      <th>3</th>\n",
       "      <td>(Request) pizza for my kids please? Hi Reddit....</td>\n",
       "      <td>lclka</td>\n",
       "      <td>2011-10-14 22:53:41</td>\n",
       "      <td>False</td>\n",
       "    </tr>\n",
       "    <tr>\n",
       "      <th>4</th>\n",
       "      <td>[Request] Two girls in between paychecks, we'v...</td>\n",
       "      <td>t2qt4</td>\n",
       "      <td>2012-05-02 03:52:38</td>\n",
       "      <td>False</td>\n",
       "    </tr>\n",
       "    <tr>\n",
       "      <th>...</th>\n",
       "      <td>...</td>\n",
       "      <td>...</td>\n",
       "      <td>...</td>\n",
       "      <td>...</td>\n",
       "    </tr>\n",
       "    <tr>\n",
       "      <th>1626</th>\n",
       "      <td>[Request] MONTERREY, I'm hungry :( I hope we M...</td>\n",
       "      <td>iwbsf</td>\n",
       "      <td>2011-07-21 23:57:17</td>\n",
       "      <td>False</td>\n",
       "    </tr>\n",
       "    <tr>\n",
       "      <th>1627</th>\n",
       "      <td>[Request] Durham NH broke call center employee...</td>\n",
       "      <td>1foy3z</td>\n",
       "      <td>2013-06-05 01:35:40</td>\n",
       "      <td>False</td>\n",
       "    </tr>\n",
       "    <tr>\n",
       "      <th>1628</th>\n",
       "      <td>[Request] California USA  Last of my money wen...</td>\n",
       "      <td>11wza2</td>\n",
       "      <td>2012-10-23 00:52:29</td>\n",
       "      <td>False</td>\n",
       "    </tr>\n",
       "    <tr>\n",
       "      <th>1629</th>\n",
       "      <td>requesting some pizza for tonight!! Hey everyo...</td>\n",
       "      <td>iihye</td>\n",
       "      <td>2011-07-06 22:33:02</td>\n",
       "      <td>False</td>\n",
       "    </tr>\n",
       "    <tr>\n",
       "      <th>1630</th>\n",
       "      <td>[Request] Roommate just left me high and dry. ...</td>\n",
       "      <td>1m53fu</td>\n",
       "      <td>2013-09-11 00:12:34</td>\n",
       "      <td>False</td>\n",
       "    </tr>\n",
       "  </tbody>\n",
       "</table>\n",
       "<p>1631 rows × 4 columns</p>\n",
       "</div>"
      ],
      "text/plain": [
       "                                           request_text submissionids  \\\n",
       "0     [request] pregger gf 95 degree house and no fo...         i8iy4   \n",
       "1     [Request] Lost my job day after labour day, st...        1mfqi0   \n",
       "2     [Request] Just moved to a new state(Waltham MA...        1jdgdj   \n",
       "3     (Request) pizza for my kids please? Hi Reddit....         lclka   \n",
       "4     [Request] Two girls in between paychecks, we'v...         t2qt4   \n",
       "...                                                 ...           ...   \n",
       "1626  [Request] MONTERREY, I'm hungry :( I hope we M...         iwbsf   \n",
       "1627  [Request] Durham NH broke call center employee...        1foy3z   \n",
       "1628  [Request] California USA  Last of my money wen...        11wza2   \n",
       "1629  requesting some pizza for tonight!! Hey everyo...         iihye   \n",
       "1630  [Request] Roommate just left me high and dry. ...        1m53fu   \n",
       "\n",
       "     unix_timestamp_of_request_utc received_pizza  \n",
       "0              2011-06-24 23:56:59          False  \n",
       "1              2013-09-15 15:45:23          False  \n",
       "2              2013-07-30 20:38:02          False  \n",
       "3              2011-10-14 22:53:41          False  \n",
       "4              2012-05-02 03:52:38          False  \n",
       "...                            ...            ...  \n",
       "1626           2011-07-21 23:57:17          False  \n",
       "1627           2013-06-05 01:35:40          False  \n",
       "1628           2012-10-23 00:52:29          False  \n",
       "1629           2011-07-06 22:33:02          False  \n",
       "1630           2013-09-11 00:12:34          False  \n",
       "\n",
       "[1631 rows x 4 columns]"
      ]
     },
     "execution_count": 54,
     "metadata": {},
     "output_type": "execute_result"
    }
   ],
   "source": [
    "kaggle_testing"
   ]
  },
  {
   "cell_type": "code",
   "execution_count": 65,
   "metadata": {},
   "outputs": [
    {
     "data": {
      "text/plain": [
       "False    1631\n",
       "Name: received_pizza, dtype: int64"
      ]
     },
     "execution_count": 65,
     "metadata": {},
     "output_type": "execute_result"
    }
   ],
   "source": [
    "kaggle_testing['received_pizza'].value_counts()"
   ]
  },
  {
   "cell_type": "code",
   "execution_count": 55,
   "metadata": {},
   "outputs": [],
   "source": [
    "kaggle_testing.to_csv('kaggle_pizza_test_final.csv', index = False)"
   ]
  },
  {
   "cell_type": "markdown",
   "metadata": {},
   "source": [
    "None of the requests in the testing dataset received any pizzas. "
   ]
  }
 ],
 "metadata": {
  "kernelspec": {
   "display_name": "Python 3",
   "language": "python",
   "name": "python3"
  },
  "language_info": {
   "codemirror_mode": {
    "name": "ipython",
    "version": 3
   },
   "file_extension": ".py",
   "mimetype": "text/x-python",
   "name": "python",
   "nbconvert_exporter": "python",
   "pygments_lexer": "ipython3",
   "version": "3.7.6"
  }
 },
 "nbformat": 4,
 "nbformat_minor": 4
}
